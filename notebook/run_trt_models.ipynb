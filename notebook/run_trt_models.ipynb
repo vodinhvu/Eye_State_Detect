{
 "cells": [
  {
   "cell_type": "code",
   "execution_count": 1,
   "id": "0edbd0e2-68f1-4826-ab2a-b4fc956718c4",
   "metadata": {},
   "outputs": [
    {
     "name": "stderr",
     "output_type": "stream",
     "text": [
      "/usr/local/lib/python3.8/dist-packages/tqdm/auto.py:21: TqdmWarning: IProgress not found. Please update jupyter and ipywidgets. See https://ipywidgets.readthedocs.io/en/stable/user_install.html\n",
      "  from .autonotebook import tqdm as notebook_tqdm\n"
     ]
    }
   ],
   "source": [
    "import tensorrt as trt\n",
    "import json\n",
    "import torch\n",
    "import numpy as np"
   ]
  },
  {
   "cell_type": "code",
   "execution_count": 2,
   "id": "7cb83ed3-9420-4013-a398-c8a2b7487c01",
   "metadata": {},
   "outputs": [
    {
     "name": "stdout",
     "output_type": "stream",
     "text": [
      "[12/05/2024-02:47:56] [TRT] [I] [MemUsageChange] Init CUDA: CPU +229, GPU +0, now: CPU 301, GPU 2321 (MiB)\n",
      "[12/05/2024-02:47:56] [TRT] [I] Loaded engine size: 5 MiB\n",
      "[12/05/2024-02:47:58] [TRT] [I] [MemUsageChange] Init cuBLAS/cuBLASLt: CPU +158, GPU +212, now: CPU 466, GPU 2553 (MiB)\n",
      "[12/05/2024-02:48:01] [TRT] [I] [MemUsageChange] Init cuDNN: CPU +240, GPU +271, now: CPU 706, GPU 2824 (MiB)\n",
      "[model:  <tensorrt.tensorrt.ICudaEngine object at 0x7f12942c70>\n",
      "12/05/2024-02:48:01] [TRT] [I] [MemUsageChange] TensorRT-managed allocation in engine deserialization: CPU +0, GPU +5, now: CPU 0, GPU 5 (MiB)\n",
      "[12/05/2024-02:48:01] [TRT] [I] [MemUsageChange] Init cuBLAS/cuBLASLt: CPU +0, GPU +0, now: CPU 700, GPU 2824 (MiB)\n",
      "[12/05/2024-02:48:01] [TRT] [I] [MemUsageChange] Init cuDNN: CPU +0, GPU +0, now: CPU 700, GPU 2824 (MiB)\n",
      "[12/05/2024-02:48:01] [TRT] [I] [MemUsageChange] TensorRT-managed allocation in IExecutionContext creation: CPU +0, GPU +12, now: CPU 0, GPU 17 (MiB)\n"
     ]
    }
   ],
   "source": [
    "logger = trt.Logger(trt.Logger.INFO)\n",
    "\n",
    "# with open(\"/models/mobilenet_v2.trt\", \"rb\") as f:\n",
    "#     model_data = f.read()\n",
    "# engine = runtime.deserialize_cuda_engine(model_data)\n",
    "\n",
    "with open(\"/models/mobilenet_v2.trt\", \"rb\") as f, trt.Runtime(logger) as runtime:\n",
    "    try:\n",
    "        meta_len = int.from_bytes(f.read(4), byteorder=\"little\")  # read metadata length\n",
    "        metadata = json.loads(f.read(meta_len).decode(\"utf-8\"))  # read metadata\n",
    "    except UnicodeDecodeError:\n",
    "        f.seek(0)  # engine file may lack embedded metadata\n",
    "    model = runtime.deserialize_cuda_engine(f.read())\n",
    "\n",
    "print('model: ', model)\n",
    "context = model.create_execution_context()"
   ]
  },
  {
   "cell_type": "code",
   "execution_count": 3,
   "id": "82c83b65-22cc-44ba-bbc5-1fc91edc5cf2",
   "metadata": {},
   "outputs": [
    {
     "name": "stdout",
     "output_type": "stream",
     "text": [
      "model num_bindings 2\n"
     ]
    }
   ],
   "source": [
    "print('model num_bindings', model.num_bindings)"
   ]
  },
  {
   "cell_type": "code",
   "execution_count": 4,
   "id": "09b808ce-dd70-442f-9f5e-5e418a11aa84",
   "metadata": {},
   "outputs": [
    {
     "name": "stdout",
     "output_type": "stream",
     "text": [
      "input_name images\n",
      "input_shape (1, 3, 224, 224)\n"
     ]
    }
   ],
   "source": [
    "input_name = model.get_binding_name(0)\n",
    "print('input_name', input_name)\n",
    "input_shape = model.get_binding_shape(0)\n",
    "print('input_shape', input_shape)\n"
   ]
  },
  {
   "cell_type": "code",
   "execution_count": 5,
   "id": "19a6150e-0d81-4b10-ada0-5c373d1dd6aa",
   "metadata": {},
   "outputs": [
    {
     "name": "stdout",
     "output_type": "stream",
     "text": [
      "output_name output0\n",
      "output_shape (1, 2)\n"
     ]
    }
   ],
   "source": [
    "output_name = model.get_binding_name(1)\n",
    "print('output_name', output_name)\n",
    "output_shape = model.get_binding_shape(1)\n",
    "print('output_shape', output_shape)"
   ]
  },
  {
   "cell_type": "code",
   "execution_count": 6,
   "id": "db85b2cc-2126-4e44-ab20-ac857bf26371",
   "metadata": {},
   "outputs": [],
   "source": [
    "input_sample = torch.rand(1, 3, 224, 224).to(dtype=torch.float16).to('cuda:0')\n",
    "out = torch.from_numpy(np.empty((1,2), dtype=np.float16)).to('cuda:0')"
   ]
  },
  {
   "cell_type": "code",
   "execution_count": 7,
   "id": "620835ae-4c43-4399-96ae-734e2fabc533",
   "metadata": {},
   "outputs": [
    {
     "data": {
      "text/plain": [
       "tensor([[0., 2.]], device='cuda:0', dtype=torch.float16)"
      ]
     },
     "execution_count": 7,
     "metadata": {},
     "output_type": "execute_result"
    }
   ],
   "source": [
    "out"
   ]
  },
  {
   "cell_type": "code",
   "execution_count": 8,
   "id": "a1fff79b-432a-423d-84f5-e17378c1a6ff",
   "metadata": {},
   "outputs": [
    {
     "data": {
      "text/plain": [
       "True"
      ]
     },
     "execution_count": 8,
     "metadata": {},
     "output_type": "execute_result"
    }
   ],
   "source": [
    "context.execute_v2([int(input_sample.data_ptr()), int(out.data_ptr())])"
   ]
  },
  {
   "cell_type": "code",
   "execution_count": 9,
   "id": "ecc0fc76-30b4-487a-96fd-15c6dc623fd2",
   "metadata": {},
   "outputs": [],
   "source": [
    "torch.cuda.empty_cache()"
   ]
  },
  {
   "cell_type": "code",
   "execution_count": 9,
   "id": "5ca99325-79b0-4cc5-9759-bbeb6a32538c",
   "metadata": {},
   "outputs": [
    {
     "data": {
      "text/plain": [
       "tensor([[0., 0.]], device='cuda:0', dtype=torch.float16)"
      ]
     },
     "execution_count": 9,
     "metadata": {},
     "output_type": "execute_result"
    }
   ],
   "source": [
    "out"
   ]
  },
  {
   "cell_type": "code",
   "execution_count": null,
   "id": "0425e4a5-f1a5-407a-9f59-68687111245e",
   "metadata": {},
   "outputs": [],
   "source": []
  }
 ],
 "metadata": {
  "kernelspec": {
   "display_name": "Python 3 (ipykernel)",
   "language": "python",
   "name": "python3"
  },
  "language_info": {
   "codemirror_mode": {
    "name": "ipython",
    "version": 3
   },
   "file_extension": ".py",
   "mimetype": "text/x-python",
   "name": "python",
   "nbconvert_exporter": "python",
   "pygments_lexer": "ipython3",
   "version": "3.8.0"
  }
 },
 "nbformat": 4,
 "nbformat_minor": 5
}
